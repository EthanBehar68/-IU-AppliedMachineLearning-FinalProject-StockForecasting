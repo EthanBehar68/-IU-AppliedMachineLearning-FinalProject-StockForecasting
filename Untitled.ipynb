{
 "cells": [
  {
   "cell_type": "code",
   "execution_count": 1,
   "metadata": {},
   "outputs": [],
   "source": [
    "from fastquant import get_stock_data, backtest\n",
    "import pandas as pd\n",
    "import numpy as np\n",
    "import matplotlib.pyplot as plt"
   ]
  },
  {
   "cell_type": "code",
   "execution_count": 3,
   "metadata": {},
   "outputs": [
    {
     "name": "stdout",
     "output_type": "stream",
     "text": [
      "[*********************100%***********************]  1 of 1 completed\n"
     ]
    }
   ],
   "source": [
    "df = get_stock_data(\"AAPL\", \"2001-03-26\", \"2021-03-26\")"
   ]
  },
  {
   "cell_type": "code",
   "execution_count": 4,
   "metadata": {},
   "outputs": [
    {
     "name": "stdout",
     "output_type": "stream",
     "text": [
      "Starting Portfolio Value: 100000.00\n",
      "2021-03-25, ===Global level arguments===\n",
      "2021-03-25, init_cash : 100000\n",
      "2021-03-25, buy_prop : 1\n",
      "2021-03-25, sell_prop : 1\n",
      "2021-03-25, commission : 0.0075\n",
      "2021-03-25, stop_loss : 0\n",
      "2021-03-25, stop_trail : 0\n",
      "===Strategy level arguments===\n",
      "rsi_period : 14\n",
      "rsi_upper : 70\n",
      "rsi_lower : 30\n",
      "2021-03-25, Final Portfolio Value: 143581.25104895543\n",
      "2021-03-25, Final PnL: 43581.25\n",
      "Time used (seconds): 6.576739072799683\n",
      "==================================================\n",
      "Number of strat runs: 1\n",
      "Number of strats per run: 1\n",
      "Strat names: ['rsi']\n",
      "**************************************************\n",
      "--------------------------------------------------\n",
      "Strategy Parameters\tinit_cash:100000\tbuy_prop:1\tsell_prop:1\tcommission:0.0075\tstop_loss:0\tstop_trail:0\texecution_type:close\tchannel:\tsymbol:\tallow_short:False\tshort_max:1.5\tadd_cash_amount:0\tadd_cash_freq:M\trsi_period:14\trsi_upper:70\trsi_lower:30\n",
      "Returns\trtot:0.36173089837591005\travg:7.18861085802683e-05\trnorm:0.01828037669957563\trnorm100:1.8280376699575631\n",
      "Sharpe\tsharperatio:0.1296250796177003\n",
      "Drawdown\tlen:18\tdrawdown:5.631316014740845\tmoneydown:8568.005447387695\tmax:AutoOrderedDict([('len', 3058), ('drawdown', 58.319784333603366), ('moneydown', 82089.83576138853)])\n",
      "Timedraw\tmaxdrawdown:58.319784333603366\tmaxdrawdownperiod:3058\n",
      "Optimal parameters:\tinit_cash:100000\tbuy_prop:1\tsell_prop:1\tcommission:0.0075\tstop_loss:0\tstop_trail:0\texecution_type:close\tchannel:\tsymbol:\tallow_short:False\tshort_max:1.5\tadd_cash_amount:0\tadd_cash_freq:M\trsi_period:14\trsi_upper:70\trsi_lower:30\n",
      "Optimal metrics:\trtot:0.36173089837591005\travg:7.18861085802683e-05\trnorm:0.01828037669957563\trnorm100:1.8280376699575631\tlen:18\tdrawdown:5.631316014740845\tmoneydown:8568.005447387695\tmax:AutoOrderedDict([('len', 3058), ('drawdown', 58.319784333603366), ('moneydown', 82089.83576138853)])\tmaxdrawdown:58.319784333603366\tmaxdrawdownperiod:3058\tsharperatio:0.1296250796177003\tpnl:43581.25\tfinal_value:143581.25104895543\n"
     ]
    }
   ],
   "source": [
    "res, history = backtest(\"rsi\", df, \n",
    "                        rsi_period=14, \n",
    "                        rsi_upper=70, \n",
    "                        rsi_lower=30, \n",
    "                        plot=False, \n",
    "                        return_history=True,\n",
    "                        commission=0)"
   ]
  },
  {
   "cell_type": "code",
   "execution_count": 5,
   "metadata": {},
   "outputs": [
    {
     "name": "stdout",
     "output_type": "stream",
     "text": [
      "[][][][][][][][][][][][][][][][][][][]\n",
      "orders\n",
      "<class 'pandas.core.frame.DataFrame'>\n",
      "RangeIndex: 43 entries, 0 to 42\n",
      "Data columns (total 9 columns):\n",
      " #   Column      Non-Null Count  Dtype         \n",
      "---  ------      --------------  -----         \n",
      " 0   strat_id    43 non-null     int64         \n",
      " 1   strat_name  43 non-null     object        \n",
      " 2   dt          43 non-null     datetime64[ns]\n",
      " 3   type        43 non-null     object        \n",
      " 4   price       43 non-null     float64       \n",
      " 5   size        43 non-null     int64         \n",
      " 6   value       43 non-null     float64       \n",
      " 7   commission  43 non-null     float64       \n",
      " 8   pnl         43 non-null     float64       \n",
      "dtypes: datetime64[ns](1), float64(4), int64(2), object(2)\n",
      "memory usage: 3.1+ KB\n",
      "None\n",
      "[][][][][][][][][][][][][][][][][][][]\n",
      "periodic\n",
      "<class 'pandas.core.frame.DataFrame'>\n",
      "RangeIndex: 5018 entries, 0 to 5017\n",
      "Data columns (total 6 columns):\n",
      " #   Column           Non-Null Count  Dtype         \n",
      "---  ------           --------------  -----         \n",
      " 0   strat_id         5018 non-null   int64         \n",
      " 1   strat_name       5018 non-null   object        \n",
      " 2   dt               5018 non-null   datetime64[ns]\n",
      " 3   portfolio_value  5018 non-null   float64       \n",
      " 4   cash             5018 non-null   float64       \n",
      " 5   return           5017 non-null   float64       \n",
      "dtypes: datetime64[ns](1), float64(3), int64(1), object(1)\n",
      "memory usage: 235.3+ KB\n",
      "None\n",
      "[][][][][][][][][][][][][][][][][][][]\n",
      "indicators\n",
      "<class 'pandas.core.frame.DataFrame'>\n",
      "RangeIndex: 5032 entries, 0 to 5031\n",
      "Data columns (total 4 columns):\n",
      " #   Column                    Non-Null Count  Dtype         \n",
      "---  ------                    --------------  -----         \n",
      " 0   strat_id                  5032 non-null   int64         \n",
      " 1   strat_name                5032 non-null   object        \n",
      " 2   dt                        5032 non-null   datetime64[ns]\n",
      " 3   RelativeStrengthIndex_14  5018 non-null   float64       \n",
      "dtypes: datetime64[ns](1), float64(1), int64(1), object(1)\n",
      "memory usage: 157.4+ KB\n",
      "None\n"
     ]
    }
   ],
   "source": [
    "for key in history.keys():\n",
    "    print('[][][][][][][][][][][][][][][][][][][]')\n",
    "    print(key)\n",
    "    print(history[key].info())"
   ]
  },
  {
   "cell_type": "code",
   "execution_count": 7,
   "metadata": {},
   "outputs": [
    {
     "name": "stdout",
     "output_type": "stream",
     "text": [
      "   strat_id                            strat_name         dt  type     price  \\\n",
      "0         0  rsi_period14_rsi_upper70_rsi_lower30 2001-05-31   buy  0.353214   \n",
      "1         0  rsi_period14_rsi_upper70_rsi_lower30 2001-12-06  sell  0.406786   \n",
      "2         0  rsi_period14_rsi_upper70_rsi_lower30 2002-06-12   buy  0.365357   \n",
      "3         0  rsi_period14_rsi_upper70_rsi_lower30 2002-06-13   buy  0.358750   \n",
      "4         0  rsi_period14_rsi_upper70_rsi_lower30 2002-11-05  sell  0.301786   \n",
      "\n",
      "     size          value  commission           pnl  \n",
      "0  280728   99157.058583  743.677939      0.000000  \n",
      "1 -280728   99157.058583  856.471641  15039.160156  \n",
      "2  307871  112482.828505  843.621214      0.000000  \n",
      "3     311     111.571246    0.836784      0.000000  \n",
      "4 -308182  112594.399751  697.537611 -19589.385004  \n",
      "   strat_id                            strat_name         dt  portfolio_value  \\\n",
      "0         0  rsi_period14_rsi_upper70_rsi_lower30 2001-04-16         100000.0   \n",
      "1         0  rsi_period14_rsi_upper70_rsi_lower30 2001-04-17         100000.0   \n",
      "2         0  rsi_period14_rsi_upper70_rsi_lower30 2001-04-18         100000.0   \n",
      "3         0  rsi_period14_rsi_upper70_rsi_lower30 2001-04-19         100000.0   \n",
      "4         0  rsi_period14_rsi_upper70_rsi_lower30 2001-04-20         100000.0   \n",
      "\n",
      "       cash  return  \n",
      "0  100000.0     NaN  \n",
      "1  100000.0     0.0  \n",
      "2  100000.0     0.0  \n",
      "3  100000.0     0.0  \n",
      "4  100000.0     0.0  \n",
      "   strat_id                            strat_name         dt  \\\n",
      "0         0  rsi_period14_rsi_upper70_rsi_lower30 2001-03-26   \n",
      "1         0  rsi_period14_rsi_upper70_rsi_lower30 2001-03-27   \n",
      "2         0  rsi_period14_rsi_upper70_rsi_lower30 2001-03-28   \n",
      "3         0  rsi_period14_rsi_upper70_rsi_lower30 2001-03-29   \n",
      "4         0  rsi_period14_rsi_upper70_rsi_lower30 2001-03-30   \n",
      "\n",
      "   RelativeStrengthIndex_14  \n",
      "0                       NaN  \n",
      "1                       NaN  \n",
      "2                       NaN  \n",
      "3                       NaN  \n",
      "4                       NaN  \n"
     ]
    }
   ],
   "source": [
    "for key in history.keys():\n",
    "    print(history[key].head())"
   ]
  },
  {
   "cell_type": "code",
   "execution_count": null,
   "metadata": {},
   "outputs": [],
   "source": []
  }
 ],
 "metadata": {
  "kernelspec": {
   "display_name": "proj_env",
   "language": "python",
   "name": "proj_env"
  },
  "language_info": {
   "codemirror_mode": {
    "name": "ipython",
    "version": 3
   },
   "file_extension": ".py",
   "mimetype": "text/x-python",
   "name": "python",
   "nbconvert_exporter": "python",
   "pygments_lexer": "ipython3",
   "version": "3.6.8"
  }
 },
 "nbformat": 4,
 "nbformat_minor": 4
}
