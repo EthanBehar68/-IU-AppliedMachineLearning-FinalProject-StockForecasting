{
 "cells": [
  {
   "cell_type": "code",
   "execution_count": 3,
   "metadata": {},
   "outputs": [],
   "source": [
    "from fastquant import get_stock_data\n",
    "import pandas as pd\n",
    "import numpy as np\n",
    "import matplotlib.pyplot as plt"
   ]
  },
  {
   "cell_type": "code",
   "execution_count": 7,
   "metadata": {},
   "outputs": [],
   "source": [
    "tweets = pd.read_csv('tweets.csv')"
   ]
  },
  {
   "cell_type": "code",
   "execution_count": 14,
   "metadata": {},
   "outputs": [
    {
     "data": {
      "text/plain": [
       "Index(['Unnamed: 0', 'date', 'id', 'lang', 'probability', 'sentiment', 'text',\n",
       "       'ticker'],\n",
       "      dtype='object')"
      ]
     },
     "execution_count": 14,
     "metadata": {},
     "output_type": "execute_result"
    }
   ],
   "source": [
    "tweets.columns"
   ]
  },
  {
   "cell_type": "code",
   "execution_count": 20,
   "metadata": {},
   "outputs": [],
   "source": [
    "tweets.drop(columns=['Unnamed: 0'], inplace=True)"
   ]
  },
  {
   "cell_type": "code",
   "execution_count": 21,
   "metadata": {},
   "outputs": [
    {
     "data": {
      "text/html": [
       "<div>\n",
       "<style scoped>\n",
       "    .dataframe tbody tr th:only-of-type {\n",
       "        vertical-align: middle;\n",
       "    }\n",
       "\n",
       "    .dataframe tbody tr th {\n",
       "        vertical-align: top;\n",
       "    }\n",
       "\n",
       "    .dataframe thead th {\n",
       "        text-align: right;\n",
       "    }\n",
       "</style>\n",
       "<table border=\"1\" class=\"dataframe\">\n",
       "  <thead>\n",
       "    <tr style=\"text-align: right;\">\n",
       "      <th></th>\n",
       "      <th>date</th>\n",
       "      <th>id</th>\n",
       "      <th>lang</th>\n",
       "      <th>probability</th>\n",
       "      <th>sentiment</th>\n",
       "      <th>text</th>\n",
       "      <th>ticker</th>\n",
       "    </tr>\n",
       "  </thead>\n",
       "  <tbody>\n",
       "    <tr>\n",
       "      <th>0</th>\n",
       "      <td>2021-04-19</td>\n",
       "      <td>1.383936e+18</td>\n",
       "      <td>en</td>\n",
       "      <td>0.788206</td>\n",
       "      <td>POSITIVE</td>\n",
       "      <td>#btc #chatter #noise #eth #dogecoin \\n$spx $sp...</td>\n",
       "      <td>tsla</td>\n",
       "    </tr>\n",
       "    <tr>\n",
       "      <th>1</th>\n",
       "      <td>2021-04-19</td>\n",
       "      <td>1.383936e+18</td>\n",
       "      <td>en</td>\n",
       "      <td>0.998966</td>\n",
       "      <td>NEGATIVE</td>\n",
       "      <td>$TSLA crash kills two in #Texas</td>\n",
       "      <td>tsla</td>\n",
       "    </tr>\n",
       "    <tr>\n",
       "      <th>2</th>\n",
       "      <td>2021-04-19</td>\n",
       "      <td>1.383936e+18</td>\n",
       "      <td>en</td>\n",
       "      <td>0.949687</td>\n",
       "      <td>POSITIVE</td>\n",
       "      <td>RT  Setups and Watch List, 4/18: $TSLA $SNAP $...</td>\n",
       "      <td>tsla</td>\n",
       "    </tr>\n",
       "    <tr>\n",
       "      <th>3</th>\n",
       "      <td>2021-04-19</td>\n",
       "      <td>1.383936e+18</td>\n",
       "      <td>en</td>\n",
       "      <td>0.535232</td>\n",
       "      <td>NEGATIVE</td>\n",
       "      <td>$GOOGL Has been a leader in FANG. Over 2300 we...</td>\n",
       "      <td>tsla</td>\n",
       "    </tr>\n",
       "    <tr>\n",
       "      <th>4</th>\n",
       "      <td>2021-04-19</td>\n",
       "      <td>1.383936e+18</td>\n",
       "      <td>en</td>\n",
       "      <td>0.966784</td>\n",
       "      <td>NEGATIVE</td>\n",
       "      <td>Few stocks in the news this weekend \\n$DIS $CO...</td>\n",
       "      <td>tsla</td>\n",
       "    </tr>\n",
       "    <tr>\n",
       "      <th>...</th>\n",
       "      <td>...</td>\n",
       "      <td>...</td>\n",
       "      <td>...</td>\n",
       "      <td>...</td>\n",
       "      <td>...</td>\n",
       "      <td>...</td>\n",
       "      <td>...</td>\n",
       "    </tr>\n",
       "    <tr>\n",
       "      <th>84633</th>\n",
       "      <td>2021-04-12</td>\n",
       "      <td>1.381489e+18</td>\n",
       "      <td>en</td>\n",
       "      <td>0.622162</td>\n",
       "      <td>POSITIVE</td>\n",
       "      <td>,Started with $5k, down to $1k……, back up to $...</td>\n",
       "      <td>pltr</td>\n",
       "    </tr>\n",
       "    <tr>\n",
       "      <th>84634</th>\n",
       "      <td>2021-04-12</td>\n",
       "      <td>1.381489e+18</td>\n",
       "      <td>en</td>\n",
       "      <td>0.999506</td>\n",
       "      <td>POSITIVE</td>\n",
       "      <td>$CTRM $ZOM $AAPL $SPY $PLTR $VXX $PRQR $CSCW $...</td>\n",
       "      <td>pltr</td>\n",
       "    </tr>\n",
       "    <tr>\n",
       "      <th>84635</th>\n",
       "      <td>2021-04-12</td>\n",
       "      <td>1.381489e+18</td>\n",
       "      <td>en</td>\n",
       "      <td>0.816165</td>\n",
       "      <td>NEGATIVE</td>\n",
       "      <td>Upcoming demo day of two new products of $PLTR</td>\n",
       "      <td>pltr</td>\n",
       "    </tr>\n",
       "    <tr>\n",
       "      <th>84636</th>\n",
       "      <td>2021-04-12</td>\n",
       "      <td>1.381489e+18</td>\n",
       "      <td>en</td>\n",
       "      <td>0.542999</td>\n",
       "      <td>NEGATIVE</td>\n",
       "      <td>I am bracing for a red opening, especially for...</td>\n",
       "      <td>pltr</td>\n",
       "    </tr>\n",
       "    <tr>\n",
       "      <th>84637</th>\n",
       "      <td>2021-04-12</td>\n",
       "      <td>1.381488e+18</td>\n",
       "      <td>en</td>\n",
       "      <td>0.732720</td>\n",
       "      <td>NEGATIVE</td>\n",
       "      <td>10 most mentioned US stocks on Reddit in past ...</td>\n",
       "      <td>pltr</td>\n",
       "    </tr>\n",
       "  </tbody>\n",
       "</table>\n",
       "<p>84638 rows × 7 columns</p>\n",
       "</div>"
      ],
      "text/plain": [
       "             date            id lang  probability sentiment  \\\n",
       "0      2021-04-19  1.383936e+18   en     0.788206  POSITIVE   \n",
       "1      2021-04-19  1.383936e+18   en     0.998966  NEGATIVE   \n",
       "2      2021-04-19  1.383936e+18   en     0.949687  POSITIVE   \n",
       "3      2021-04-19  1.383936e+18   en     0.535232  NEGATIVE   \n",
       "4      2021-04-19  1.383936e+18   en     0.966784  NEGATIVE   \n",
       "...           ...           ...  ...          ...       ...   \n",
       "84633  2021-04-12  1.381489e+18   en     0.622162  POSITIVE   \n",
       "84634  2021-04-12  1.381489e+18   en     0.999506  POSITIVE   \n",
       "84635  2021-04-12  1.381489e+18   en     0.816165  NEGATIVE   \n",
       "84636  2021-04-12  1.381489e+18   en     0.542999  NEGATIVE   \n",
       "84637  2021-04-12  1.381488e+18   en     0.732720  NEGATIVE   \n",
       "\n",
       "                                                    text ticker  \n",
       "0      #btc #chatter #noise #eth #dogecoin \\n$spx $sp...   tsla  \n",
       "1                       $TSLA crash kills two in #Texas    tsla  \n",
       "2      RT  Setups and Watch List, 4/18: $TSLA $SNAP $...   tsla  \n",
       "3      $GOOGL Has been a leader in FANG. Over 2300 we...   tsla  \n",
       "4      Few stocks in the news this weekend \\n$DIS $CO...   tsla  \n",
       "...                                                  ...    ...  \n",
       "84633  ,Started with $5k, down to $1k……, back up to $...   pltr  \n",
       "84634  $CTRM $ZOM $AAPL $SPY $PLTR $VXX $PRQR $CSCW $...   pltr  \n",
       "84635     Upcoming demo day of two new products of $PLTR   pltr  \n",
       "84636  I am bracing for a red opening, especially for...   pltr  \n",
       "84637  10 most mentioned US stocks on Reddit in past ...   pltr  \n",
       "\n",
       "[84638 rows x 7 columns]"
      ]
     },
     "execution_count": 21,
     "metadata": {},
     "output_type": "execute_result"
    }
   ],
   "source": [
    "tweets"
   ]
  },
  {
   "cell_type": "code",
   "execution_count": 24,
   "metadata": {},
   "outputs": [],
   "source": [
    "start_date = tweets.iloc[-1]['date']\n",
    "end_date = tweets.iloc[0]['date']"
   ]
  },
  {
   "cell_type": "code",
   "execution_count": 27,
   "metadata": {},
   "outputs": [],
   "source": [
    "tsla = tweets[tweets['ticker']=='tsla']"
   ]
  },
  {
   "cell_type": "code",
   "execution_count": 29,
   "metadata": {},
   "outputs": [
    {
     "name": "stdout",
     "output_type": "stream",
     "text": [
      "[*********************100%***********************]  1 of 1 completed\n"
     ]
    }
   ],
   "source": [
    "tsla_data = get_stock_data('tsla',start_date,end_date)"
   ]
  },
  {
   "cell_type": "code",
   "execution_count": 30,
   "metadata": {},
   "outputs": [
    {
     "data": {
      "text/html": [
       "<div>\n",
       "<style scoped>\n",
       "    .dataframe tbody tr th:only-of-type {\n",
       "        vertical-align: middle;\n",
       "    }\n",
       "\n",
       "    .dataframe tbody tr th {\n",
       "        vertical-align: top;\n",
       "    }\n",
       "\n",
       "    .dataframe thead th {\n",
       "        text-align: right;\n",
       "    }\n",
       "</style>\n",
       "<table border=\"1\" class=\"dataframe\">\n",
       "  <thead>\n",
       "    <tr style=\"text-align: right;\">\n",
       "      <th></th>\n",
       "      <th>open</th>\n",
       "      <th>high</th>\n",
       "      <th>low</th>\n",
       "      <th>close</th>\n",
       "      <th>volume</th>\n",
       "    </tr>\n",
       "    <tr>\n",
       "      <th>dt</th>\n",
       "      <th></th>\n",
       "      <th></th>\n",
       "      <th></th>\n",
       "      <th></th>\n",
       "      <th></th>\n",
       "    </tr>\n",
       "  </thead>\n",
       "  <tbody>\n",
       "    <tr>\n",
       "      <th>2021-04-12</th>\n",
       "      <td>685.700012</td>\n",
       "      <td>704.799988</td>\n",
       "      <td>682.090027</td>\n",
       "      <td>701.979980</td>\n",
       "      <td>29135700</td>\n",
       "    </tr>\n",
       "    <tr>\n",
       "      <th>2021-04-13</th>\n",
       "      <td>712.700012</td>\n",
       "      <td>763.000000</td>\n",
       "      <td>710.659973</td>\n",
       "      <td>762.320007</td>\n",
       "      <td>44652800</td>\n",
       "    </tr>\n",
       "    <tr>\n",
       "      <th>2021-04-14</th>\n",
       "      <td>770.700012</td>\n",
       "      <td>780.789978</td>\n",
       "      <td>728.030029</td>\n",
       "      <td>732.229980</td>\n",
       "      <td>49017400</td>\n",
       "    </tr>\n",
       "    <tr>\n",
       "      <th>2021-04-15</th>\n",
       "      <td>743.099976</td>\n",
       "      <td>743.690002</td>\n",
       "      <td>721.309998</td>\n",
       "      <td>738.849976</td>\n",
       "      <td>27848900</td>\n",
       "    </tr>\n",
       "    <tr>\n",
       "      <th>2021-04-16</th>\n",
       "      <td>728.650024</td>\n",
       "      <td>749.409973</td>\n",
       "      <td>724.599976</td>\n",
       "      <td>739.780029</td>\n",
       "      <td>27924000</td>\n",
       "    </tr>\n",
       "  </tbody>\n",
       "</table>\n",
       "</div>"
      ],
      "text/plain": [
       "                  open        high         low       close    volume\n",
       "dt                                                                  \n",
       "2021-04-12  685.700012  704.799988  682.090027  701.979980  29135700\n",
       "2021-04-13  712.700012  763.000000  710.659973  762.320007  44652800\n",
       "2021-04-14  770.700012  780.789978  728.030029  732.229980  49017400\n",
       "2021-04-15  743.099976  743.690002  721.309998  738.849976  27848900\n",
       "2021-04-16  728.650024  749.409973  724.599976  739.780029  27924000"
      ]
     },
     "execution_count": 30,
     "metadata": {},
     "output_type": "execute_result"
    }
   ],
   "source": [
    "tsla_data"
   ]
  },
  {
   "cell_type": "code",
   "execution_count": 34,
   "metadata": {},
   "outputs": [],
   "source": [
    "def data_prep(data):\n",
    "    df = pd.DataFrame(data=None, columns=['fracChange'])\n",
    "    df['fracChange'] = (data['close']-data['open'])/data['open']\n",
    "\n",
    "    return df"
   ]
  },
  {
   "cell_type": "code",
   "execution_count": 32,
   "metadata": {},
   "outputs": [],
   "source": [
    "def calc_avg_sentiment(df,date):\n",
    "    subdf = tweets[tweets['date'] == date]\n",
    "    sentiment = subdf['sentiment'].values\n",
    "    avg_sentiment = sum([-1 if s == 'NEGATIVE' else 1 for s in sentiment])/len(sentiment)\n",
    "    return avg_sentiment"
   ]
  },
  {
   "cell_type": "code",
   "execution_count": 35,
   "metadata": {},
   "outputs": [],
   "source": [
    "tsla_frac_change = data_prep(tsla_data)"
   ]
  },
  {
   "cell_type": "code",
   "execution_count": 36,
   "metadata": {},
   "outputs": [
    {
     "data": {
      "text/html": [
       "<div>\n",
       "<style scoped>\n",
       "    .dataframe tbody tr th:only-of-type {\n",
       "        vertical-align: middle;\n",
       "    }\n",
       "\n",
       "    .dataframe tbody tr th {\n",
       "        vertical-align: top;\n",
       "    }\n",
       "\n",
       "    .dataframe thead th {\n",
       "        text-align: right;\n",
       "    }\n",
       "</style>\n",
       "<table border=\"1\" class=\"dataframe\">\n",
       "  <thead>\n",
       "    <tr style=\"text-align: right;\">\n",
       "      <th></th>\n",
       "      <th>fracChange</th>\n",
       "    </tr>\n",
       "    <tr>\n",
       "      <th>dt</th>\n",
       "      <th></th>\n",
       "    </tr>\n",
       "  </thead>\n",
       "  <tbody>\n",
       "    <tr>\n",
       "      <th>2021-04-12</th>\n",
       "      <td>0.023742</td>\n",
       "    </tr>\n",
       "    <tr>\n",
       "      <th>2021-04-13</th>\n",
       "      <td>0.069623</td>\n",
       "    </tr>\n",
       "    <tr>\n",
       "      <th>2021-04-14</th>\n",
       "      <td>-0.049916</td>\n",
       "    </tr>\n",
       "    <tr>\n",
       "      <th>2021-04-15</th>\n",
       "      <td>-0.005719</td>\n",
       "    </tr>\n",
       "    <tr>\n",
       "      <th>2021-04-16</th>\n",
       "      <td>0.015275</td>\n",
       "    </tr>\n",
       "  </tbody>\n",
       "</table>\n",
       "</div>"
      ],
      "text/plain": [
       "            fracChange\n",
       "dt                    \n",
       "2021-04-12    0.023742\n",
       "2021-04-13    0.069623\n",
       "2021-04-14   -0.049916\n",
       "2021-04-15   -0.005719\n",
       "2021-04-16    0.015275"
      ]
     },
     "execution_count": 36,
     "metadata": {},
     "output_type": "execute_result"
    }
   ],
   "source": [
    "tsla_frac_change"
   ]
  },
  {
   "cell_type": "code",
   "execution_count": 39,
   "metadata": {},
   "outputs": [],
   "source": [
    "dates = tsla['date'].unique()"
   ]
  },
  {
   "cell_type": "code",
   "execution_count": 41,
   "metadata": {},
   "outputs": [],
   "source": [
    "avg_sent = []\n",
    "for date in dates:\n",
    "    avg_sent.append(calc_avg_sentiment(tsla,date))"
   ]
  },
  {
   "cell_type": "code",
   "execution_count": 42,
   "metadata": {},
   "outputs": [
    {
     "data": {
      "text/plain": [
       "[-0.048672566371681415,\n",
       " -0.032819074333800845,\n",
       " -0.008944195994555707,\n",
       " -0.046674537583628495,\n",
       " -0.061349224539689814,\n",
       " -0.0670908039329092,\n",
       " -0.11553369111508646,\n",
       " -0.05114812259781216]"
      ]
     },
     "execution_count": 42,
     "metadata": {},
     "output_type": "execute_result"
    }
   ],
   "source": [
    "avg_sent"
   ]
  },
  {
   "cell_type": "code",
   "execution_count": 43,
   "metadata": {},
   "outputs": [
    {
     "data": {
      "text/plain": [
       "array(['2021-04-19', '2021-04-18', '2021-04-17', '2021-04-16',\n",
       "       '2021-04-15', '2021-04-14', '2021-04-13', '2021-04-12'],\n",
       "      dtype=object)"
      ]
     },
     "execution_count": 43,
     "metadata": {},
     "output_type": "execute_result"
    }
   ],
   "source": [
    "dates"
   ]
  },
  {
   "cell_type": "code",
   "execution_count": 51,
   "metadata": {},
   "outputs": [],
   "source": [
    "tsla_frac_change = tsla_frac_change[1:]"
   ]
  },
  {
   "cell_type": "code",
   "execution_count": 52,
   "metadata": {},
   "outputs": [
    {
     "data": {
      "text/html": [
       "<div>\n",
       "<style scoped>\n",
       "    .dataframe tbody tr th:only-of-type {\n",
       "        vertical-align: middle;\n",
       "    }\n",
       "\n",
       "    .dataframe tbody tr th {\n",
       "        vertical-align: top;\n",
       "    }\n",
       "\n",
       "    .dataframe thead th {\n",
       "        text-align: right;\n",
       "    }\n",
       "</style>\n",
       "<table border=\"1\" class=\"dataframe\">\n",
       "  <thead>\n",
       "    <tr style=\"text-align: right;\">\n",
       "      <th></th>\n",
       "      <th>fracChange</th>\n",
       "    </tr>\n",
       "    <tr>\n",
       "      <th>dt</th>\n",
       "      <th></th>\n",
       "    </tr>\n",
       "  </thead>\n",
       "  <tbody>\n",
       "    <tr>\n",
       "      <th>2021-04-13</th>\n",
       "      <td>0.069623</td>\n",
       "    </tr>\n",
       "    <tr>\n",
       "      <th>2021-04-14</th>\n",
       "      <td>-0.049916</td>\n",
       "    </tr>\n",
       "    <tr>\n",
       "      <th>2021-04-15</th>\n",
       "      <td>-0.005719</td>\n",
       "    </tr>\n",
       "    <tr>\n",
       "      <th>2021-04-16</th>\n",
       "      <td>0.015275</td>\n",
       "    </tr>\n",
       "  </tbody>\n",
       "</table>\n",
       "</div>"
      ],
      "text/plain": [
       "            fracChange\n",
       "dt                    \n",
       "2021-04-13    0.069623\n",
       "2021-04-14   -0.049916\n",
       "2021-04-15   -0.005719\n",
       "2021-04-16    0.015275"
      ]
     },
     "execution_count": 52,
     "metadata": {},
     "output_type": "execute_result"
    }
   ],
   "source": [
    "tsla_frac_change"
   ]
  },
  {
   "cell_type": "code",
   "execution_count": 57,
   "metadata": {},
   "outputs": [],
   "source": [
    "avg_sent = list(reversed(avg_sent))"
   ]
  },
  {
   "cell_type": "code",
   "execution_count": 59,
   "metadata": {},
   "outputs": [],
   "source": [
    "avg_sent = avg_sent[:4]"
   ]
  },
  {
   "cell_type": "code",
   "execution_count": 60,
   "metadata": {},
   "outputs": [
    {
     "data": {
      "text/plain": [
       "[-0.05114812259781216,\n",
       " -0.11553369111508646,\n",
       " -0.0670908039329092,\n",
       " -0.061349224539689814]"
      ]
     },
     "execution_count": 60,
     "metadata": {},
     "output_type": "execute_result"
    }
   ],
   "source": [
    "avg_sent"
   ]
  },
  {
   "cell_type": "code",
   "execution_count": 61,
   "metadata": {},
   "outputs": [],
   "source": [
    "tsla_frac_change['avg_sent'] = avg_sent"
   ]
  },
  {
   "cell_type": "code",
   "execution_count": 62,
   "metadata": {},
   "outputs": [
    {
     "data": {
      "text/html": [
       "<div>\n",
       "<style scoped>\n",
       "    .dataframe tbody tr th:only-of-type {\n",
       "        vertical-align: middle;\n",
       "    }\n",
       "\n",
       "    .dataframe tbody tr th {\n",
       "        vertical-align: top;\n",
       "    }\n",
       "\n",
       "    .dataframe thead th {\n",
       "        text-align: right;\n",
       "    }\n",
       "</style>\n",
       "<table border=\"1\" class=\"dataframe\">\n",
       "  <thead>\n",
       "    <tr style=\"text-align: right;\">\n",
       "      <th></th>\n",
       "      <th>fracChange</th>\n",
       "      <th>avg_sent</th>\n",
       "    </tr>\n",
       "    <tr>\n",
       "      <th>dt</th>\n",
       "      <th></th>\n",
       "      <th></th>\n",
       "    </tr>\n",
       "  </thead>\n",
       "  <tbody>\n",
       "    <tr>\n",
       "      <th>2021-04-13</th>\n",
       "      <td>0.069623</td>\n",
       "      <td>-0.051148</td>\n",
       "    </tr>\n",
       "    <tr>\n",
       "      <th>2021-04-14</th>\n",
       "      <td>-0.049916</td>\n",
       "      <td>-0.115534</td>\n",
       "    </tr>\n",
       "    <tr>\n",
       "      <th>2021-04-15</th>\n",
       "      <td>-0.005719</td>\n",
       "      <td>-0.067091</td>\n",
       "    </tr>\n",
       "    <tr>\n",
       "      <th>2021-04-16</th>\n",
       "      <td>0.015275</td>\n",
       "      <td>-0.061349</td>\n",
       "    </tr>\n",
       "  </tbody>\n",
       "</table>\n",
       "</div>"
      ],
      "text/plain": [
       "            fracChange  avg_sent\n",
       "dt                              \n",
       "2021-04-13    0.069623 -0.051148\n",
       "2021-04-14   -0.049916 -0.115534\n",
       "2021-04-15   -0.005719 -0.067091\n",
       "2021-04-16    0.015275 -0.061349"
      ]
     },
     "execution_count": 62,
     "metadata": {},
     "output_type": "execute_result"
    }
   ],
   "source": [
    "tsla_frac_change"
   ]
  },
  {
   "cell_type": "code",
   "execution_count": 65,
   "metadata": {},
   "outputs": [
    {
     "data": {
      "image/png": "[encoded data removed]",
      "text/plain": [
       "<Figure size 432x288 with 1 Axes>"
      ]
     },
     "metadata": {
      "needs_background": "light"
     },
     "output_type": "display_data"
    }
   ],
   "source": [
    "_ = tsla_frac_change.plot()"
   ]
  },
  {
   "cell_type": "code",
   "execution_count": 64,
   "metadata": {},
   "outputs": [
    {
     "data": {
      "text/html": [
       "<div>\n",
       "<style scoped>\n",
       "    .dataframe tbody tr th:only-of-type {\n",
       "        vertical-align: middle;\n",
       "    }\n",
       "\n",
       "    .dataframe tbody tr th {\n",
       "        vertical-align: top;\n",
       "    }\n",
       "\n",
       "    .dataframe thead th {\n",
       "        text-align: right;\n",
       "    }\n",
       "</style>\n",
       "<table border=\"1\" class=\"dataframe\">\n",
       "  <thead>\n",
       "    <tr style=\"text-align: right;\">\n",
       "      <th></th>\n",
       "      <th>date</th>\n",
       "      <th>id</th>\n",
       "      <th>lang</th>\n",
       "      <th>probability</th>\n",
       "      <th>sentiment</th>\n",
       "      <th>text</th>\n",
       "      <th>ticker</th>\n",
       "    </tr>\n",
       "  </thead>\n",
       "  <tbody>\n",
       "    <tr>\n",
       "      <th>0</th>\n",
       "      <td>2021-04-19</td>\n",
       "      <td>1.383936e+18</td>\n",
       "      <td>en</td>\n",
       "      <td>0.788206</td>\n",
       "      <td>POSITIVE</td>\n",
       "      <td>#btc #chatter #noise #eth #dogecoin \\n$spx $sp...</td>\n",
       "      <td>tsla</td>\n",
       "    </tr>\n",
       "    <tr>\n",
       "      <th>1</th>\n",
       "      <td>2021-04-19</td>\n",
       "      <td>1.383936e+18</td>\n",
       "      <td>en</td>\n",
       "      <td>0.998966</td>\n",
       "      <td>NEGATIVE</td>\n",
       "      <td>$TSLA crash kills two in #Texas</td>\n",
       "      <td>tsla</td>\n",
       "    </tr>\n",
       "    <tr>\n",
       "      <th>2</th>\n",
       "      <td>2021-04-19</td>\n",
       "      <td>1.383936e+18</td>\n",
       "      <td>en</td>\n",
       "      <td>0.949687</td>\n",
       "      <td>POSITIVE</td>\n",
       "      <td>RT  Setups and Watch List, 4/18: $TSLA $SNAP $...</td>\n",
       "      <td>tsla</td>\n",
       "    </tr>\n",
       "    <tr>\n",
       "      <th>3</th>\n",
       "      <td>2021-04-19</td>\n",
       "      <td>1.383936e+18</td>\n",
       "      <td>en</td>\n",
       "      <td>0.535232</td>\n",
       "      <td>NEGATIVE</td>\n",
       "      <td>$GOOGL Has been a leader in FANG. Over 2300 we...</td>\n",
       "      <td>tsla</td>\n",
       "    </tr>\n",
       "    <tr>\n",
       "      <th>4</th>\n",
       "      <td>2021-04-19</td>\n",
       "      <td>1.383936e+18</td>\n",
       "      <td>en</td>\n",
       "      <td>0.966784</td>\n",
       "      <td>NEGATIVE</td>\n",
       "      <td>Few stocks in the news this weekend \\n$DIS $CO...</td>\n",
       "      <td>tsla</td>\n",
       "    </tr>\n",
       "    <tr>\n",
       "      <th>...</th>\n",
       "      <td>...</td>\n",
       "      <td>...</td>\n",
       "      <td>...</td>\n",
       "      <td>...</td>\n",
       "      <td>...</td>\n",
       "      <td>...</td>\n",
       "      <td>...</td>\n",
       "    </tr>\n",
       "    <tr>\n",
       "      <th>16241</th>\n",
       "      <td>2021-04-12</td>\n",
       "      <td>1.381483e+18</td>\n",
       "      <td>en</td>\n",
       "      <td>0.945080</td>\n",
       "      <td>NEGATIVE</td>\n",
       "      <td>RT  Pick your basket? It's April 2026 which gr...</td>\n",
       "      <td>tsla</td>\n",
       "    </tr>\n",
       "    <tr>\n",
       "      <th>16242</th>\n",
       "      <td>2021-04-12</td>\n",
       "      <td>1.381483e+18</td>\n",
       "      <td>en</td>\n",
       "      <td>0.996286</td>\n",
       "      <td>NEGATIVE</td>\n",
       "      <td>RT  This week there’s a slew of macro indicato...</td>\n",
       "      <td>tsla</td>\n",
       "    </tr>\n",
       "    <tr>\n",
       "      <th>16243</th>\n",
       "      <td>2021-04-12</td>\n",
       "      <td>1.381483e+18</td>\n",
       "      <td>en</td>\n",
       "      <td>0.999100</td>\n",
       "      <td>NEGATIVE</td>\n",
       "      <td>Gamestop Corp. (GME), Square (SQ), Tesla Motor...</td>\n",
       "      <td>tsla</td>\n",
       "    </tr>\n",
       "    <tr>\n",
       "      <th>16244</th>\n",
       "      <td>2021-04-12</td>\n",
       "      <td>1.381483e+18</td>\n",
       "      <td>en</td>\n",
       "      <td>0.900235</td>\n",
       "      <td>NEGATIVE</td>\n",
       "      <td>RT  Early in $FB (2007)\\nEarly in  (2011)\\nEar...</td>\n",
       "      <td>tsla</td>\n",
       "    </tr>\n",
       "    <tr>\n",
       "      <th>16245</th>\n",
       "      <td>2021-04-12</td>\n",
       "      <td>1.381483e+18</td>\n",
       "      <td>en</td>\n",
       "      <td>0.963490</td>\n",
       "      <td>POSITIVE</td>\n",
       "      <td>🚨Team RVR's Top 5 Trending Tickers on Twitter,...</td>\n",
       "      <td>tsla</td>\n",
       "    </tr>\n",
       "  </tbody>\n",
       "</table>\n",
       "<p>16243 rows × 7 columns</p>\n",
       "</div>"
      ],
      "text/plain": [
       "             date            id lang  probability sentiment  \\\n",
       "0      2021-04-19  1.383936e+18   en     0.788206  POSITIVE   \n",
       "1      2021-04-19  1.383936e+18   en     0.998966  NEGATIVE   \n",
       "2      2021-04-19  1.383936e+18   en     0.949687  POSITIVE   \n",
       "3      2021-04-19  1.383936e+18   en     0.535232  NEGATIVE   \n",
       "4      2021-04-19  1.383936e+18   en     0.966784  NEGATIVE   \n",
       "...           ...           ...  ...          ...       ...   \n",
       "16241  2021-04-12  1.381483e+18   en     0.945080  NEGATIVE   \n",
       "16242  2021-04-12  1.381483e+18   en     0.996286  NEGATIVE   \n",
       "16243  2021-04-12  1.381483e+18   en     0.999100  NEGATIVE   \n",
       "16244  2021-04-12  1.381483e+18   en     0.900235  NEGATIVE   \n",
       "16245  2021-04-12  1.381483e+18   en     0.963490  POSITIVE   \n",
       "\n",
       "                                                    text ticker  \n",
       "0      #btc #chatter #noise #eth #dogecoin \\n$spx $sp...   tsla  \n",
       "1                       $TSLA crash kills two in #Texas    tsla  \n",
       "2      RT  Setups and Watch List, 4/18: $TSLA $SNAP $...   tsla  \n",
       "3      $GOOGL Has been a leader in FANG. Over 2300 we...   tsla  \n",
       "4      Few stocks in the news this weekend \\n$DIS $CO...   tsla  \n",
       "...                                                  ...    ...  \n",
       "16241  RT  Pick your basket? It's April 2026 which gr...   tsla  \n",
       "16242  RT  This week there’s a slew of macro indicato...   tsla  \n",
       "16243  Gamestop Corp. (GME), Square (SQ), Tesla Motor...   tsla  \n",
       "16244  RT  Early in $FB (2007)\\nEarly in  (2011)\\nEar...   tsla  \n",
       "16245  🚨Team RVR's Top 5 Trending Tickers on Twitter,...   tsla  \n",
       "\n",
       "[16243 rows x 7 columns]"
      ]
     },
     "execution_count": 64,
     "metadata": {},
     "output_type": "execute_result"
    }
   ],
   "source": [
    "tsla"
   ]
  },
  {
   "cell_type": "code",
   "execution_count": 67,
   "metadata": {},
   "outputs": [
    {
     "data": {
      "text/plain": [
       "<matplotlib.collections.PathCollection at 0x7fb0a703fe80>"
      ]
     },
     "execution_count": 67,
     "metadata": {},
     "output_type": "execute_result"
    },
    {
     "data": {
      "image/png": "[encoded data removed]",
      "text/plain": [
       "<Figure size 432x288 with 1 Axes>"
      ]
     },
     "metadata": {
      "needs_background": "light"
     },
     "output_type": "display_data"
    }
   ],
   "source": [
    "plt.scatter(x=tsla_frac_change['avg_sent'],y=tsla_frac_change['fracChange'])"
   ]
  },
  {
   "cell_type": "code",
   "execution_count": 91,
   "metadata": {},
   "outputs": [],
   "source": [
    "def gen_data(df,ticker):\n",
    "    ticker_data = tweets[tweets['ticker']==ticker]\n",
    "    ticker_prices = get_stock_data(ticker,start_date,end_date)\n",
    "    ticker_frac_change = data_prep(ticker_prices)\n",
    "    dates = ticker_data['date'].unique()\n",
    "    avg_sent = []\n",
    "    for date in dates:\n",
    "        avg_sent.append(calc_avg_sentiment(tsla,date))\n",
    "    ticker_frac_change = ticker_frac_change[1:]\n",
    "    avg_sent = list(reversed(avg_sent))\n",
    "    avg_sent = avg_sent[:4]\n",
    "    ticker_frac_change['avg_sent'] = avg_sent\n",
    "    ticker_frac_change['ticker'] = ticker\n",
    "    return ticker_frac_change"
   ]
  },
  {
   "cell_type": "code",
   "execution_count": 92,
   "metadata": {},
   "outputs": [],
   "source": [
    "tickers = ['tsla', 'amzn', 'msft', 'aapl', 'gme', 'pltr']"
   ]
  },
  {
   "cell_type": "code",
   "execution_count": 96,
   "metadata": {},
   "outputs": [],
   "source": [
    "data = pd.DataFrame(columns=['fracChange','avg_sent','ticker'])"
   ]
  },
  {
   "cell_type": "code",
   "execution_count": 97,
   "metadata": {},
   "outputs": [
    {
     "name": "stdout",
     "output_type": "stream",
     "text": [
      "[*********************100%***********************]  1 of 1 completed\n",
      "[*********************100%***********************]  1 of 1 completed\n",
      "[*********************100%***********************]  1 of 1 completed\n",
      "[*********************100%***********************]  1 of 1 completed\n",
      "[*********************100%***********************]  1 of 1 completed\n",
      "[*********************100%***********************]  1 of 1 completed\n"
     ]
    }
   ],
   "source": [
    "for ticker in tickers:\n",
    "    data = data.append(gen_data(tweets,ticker))"
   ]
  },
  {
   "cell_type": "code",
   "execution_count": 98,
   "metadata": {},
   "outputs": [
    {
     "data": {
      "text/html": [
       "<div>\n",
       "<style scoped>\n",
       "    .dataframe tbody tr th:only-of-type {\n",
       "        vertical-align: middle;\n",
       "    }\n",
       "\n",
       "    .dataframe tbody tr th {\n",
       "        vertical-align: top;\n",
       "    }\n",
       "\n",
       "    .dataframe thead th {\n",
       "        text-align: right;\n",
       "    }\n",
       "</style>\n",
       "<table border=\"1\" class=\"dataframe\">\n",
       "  <thead>\n",
       "    <tr style=\"text-align: right;\">\n",
       "      <th></th>\n",
       "      <th>fracChange</th>\n",
       "      <th>avg_sent</th>\n",
       "      <th>ticker</th>\n",
       "    </tr>\n",
       "  </thead>\n",
       "  <tbody>\n",
       "    <tr>\n",
       "      <th>2021-04-13</th>\n",
       "      <td>0.069623</td>\n",
       "      <td>-0.051148</td>\n",
       "      <td>tsla</td>\n",
       "    </tr>\n",
       "    <tr>\n",
       "      <th>2021-04-14</th>\n",
       "      <td>-0.049916</td>\n",
       "      <td>-0.115534</td>\n",
       "      <td>tsla</td>\n",
       "    </tr>\n",
       "    <tr>\n",
       "      <th>2021-04-15</th>\n",
       "      <td>-0.005719</td>\n",
       "      <td>-0.067091</td>\n",
       "      <td>tsla</td>\n",
       "    </tr>\n",
       "    <tr>\n",
       "      <th>2021-04-16</th>\n",
       "      <td>0.015275</td>\n",
       "      <td>-0.061349</td>\n",
       "      <td>tsla</td>\n",
       "    </tr>\n",
       "    <tr>\n",
       "      <th>2021-04-13</th>\n",
       "      <td>-0.000250</td>\n",
       "      <td>-0.051148</td>\n",
       "      <td>amzn</td>\n",
       "    </tr>\n",
       "    <tr>\n",
       "      <th>2021-04-14</th>\n",
       "      <td>-0.020869</td>\n",
       "      <td>-0.115534</td>\n",
       "      <td>amzn</td>\n",
       "    </tr>\n",
       "    <tr>\n",
       "      <th>2021-04-15</th>\n",
       "      <td>0.002400</td>\n",
       "      <td>-0.067091</td>\n",
       "      <td>amzn</td>\n",
       "    </tr>\n",
       "    <tr>\n",
       "      <th>2021-04-16</th>\n",
       "      <td>0.005751</td>\n",
       "      <td>-0.061349</td>\n",
       "      <td>amzn</td>\n",
       "    </tr>\n",
       "    <tr>\n",
       "      <th>2021-04-13</th>\n",
       "      <td>0.004781</td>\n",
       "      <td>-0.051148</td>\n",
       "      <td>msft</td>\n",
       "    </tr>\n",
       "    <tr>\n",
       "      <th>2021-04-14</th>\n",
       "      <td>-0.007340</td>\n",
       "      <td>-0.115534</td>\n",
       "      <td>msft</td>\n",
       "    </tr>\n",
       "    <tr>\n",
       "      <th>2021-04-15</th>\n",
       "      <td>0.006087</td>\n",
       "      <td>-0.067091</td>\n",
       "      <td>msft</td>\n",
       "    </tr>\n",
       "    <tr>\n",
       "      <th>2021-04-16</th>\n",
       "      <td>0.004895</td>\n",
       "      <td>-0.061349</td>\n",
       "      <td>msft</td>\n",
       "    </tr>\n",
       "    <tr>\n",
       "      <th>2021-04-13</th>\n",
       "      <td>0.015026</td>\n",
       "      <td>-0.051148</td>\n",
       "      <td>aapl</td>\n",
       "    </tr>\n",
       "    <tr>\n",
       "      <th>2021-04-14</th>\n",
       "      <td>-0.021565</td>\n",
       "      <td>-0.115534</td>\n",
       "      <td>aapl</td>\n",
       "    </tr>\n",
       "    <tr>\n",
       "      <th>2021-04-15</th>\n",
       "      <td>0.005081</td>\n",
       "      <td>-0.067091</td>\n",
       "      <td>aapl</td>\n",
       "    </tr>\n",
       "    <tr>\n",
       "      <th>2021-04-16</th>\n",
       "      <td>-0.001042</td>\n",
       "      <td>-0.061349</td>\n",
       "      <td>aapl</td>\n",
       "    </tr>\n",
       "    <tr>\n",
       "      <th>2021-04-13</th>\n",
       "      <td>-0.006273</td>\n",
       "      <td>-0.051148</td>\n",
       "      <td>gme</td>\n",
       "    </tr>\n",
       "    <tr>\n",
       "      <th>2021-04-14</th>\n",
       "      <td>0.159922</td>\n",
       "      <td>-0.115534</td>\n",
       "      <td>gme</td>\n",
       "    </tr>\n",
       "    <tr>\n",
       "      <th>2021-04-15</th>\n",
       "      <td>-0.040245</td>\n",
       "      <td>-0.067091</td>\n",
       "      <td>gme</td>\n",
       "    </tr>\n",
       "    <tr>\n",
       "      <th>2021-04-16</th>\n",
       "      <td>-0.008397</td>\n",
       "      <td>-0.061349</td>\n",
       "      <td>gme</td>\n",
       "    </tr>\n",
       "    <tr>\n",
       "      <th>2021-04-13</th>\n",
       "      <td>0.096162</td>\n",
       "      <td>-0.051148</td>\n",
       "      <td>pltr</td>\n",
       "    </tr>\n",
       "    <tr>\n",
       "      <th>2021-04-14</th>\n",
       "      <td>-0.065089</td>\n",
       "      <td>-0.115534</td>\n",
       "      <td>pltr</td>\n",
       "    </tr>\n",
       "    <tr>\n",
       "      <th>2021-04-15</th>\n",
       "      <td>-0.035818</td>\n",
       "      <td>-0.067091</td>\n",
       "      <td>pltr</td>\n",
       "    </tr>\n",
       "    <tr>\n",
       "      <th>2021-04-16</th>\n",
       "      <td>-0.017060</td>\n",
       "      <td>-0.061349</td>\n",
       "      <td>pltr</td>\n",
       "    </tr>\n",
       "  </tbody>\n",
       "</table>\n",
       "</div>"
      ],
      "text/plain": [
       "            fracChange  avg_sent ticker\n",
       "2021-04-13    0.069623 -0.051148   tsla\n",
       "2021-04-14   -0.049916 -0.115534   tsla\n",
       "2021-04-15   -0.005719 -0.067091   tsla\n",
       "2021-04-16    0.015275 -0.061349   tsla\n",
       "2021-04-13   -0.000250 -0.051148   amzn\n",
       "2021-04-14   -0.020869 -0.115534   amzn\n",
       "2021-04-15    0.002400 -0.067091   amzn\n",
       "2021-04-16    0.005751 -0.061349   amzn\n",
       "2021-04-13    0.004781 -0.051148   msft\n",
       "2021-04-14   -0.007340 -0.115534   msft\n",
       "2021-04-15    0.006087 -0.067091   msft\n",
       "2021-04-16    0.004895 -0.061349   msft\n",
       "2021-04-13    0.015026 -0.051148   aapl\n",
       "2021-04-14   -0.021565 -0.115534   aapl\n",
       "2021-04-15    0.005081 -0.067091   aapl\n",
       "2021-04-16   -0.001042 -0.061349   aapl\n",
       "2021-04-13   -0.006273 -0.051148    gme\n",
       "2021-04-14    0.159922 -0.115534    gme\n",
       "2021-04-15   -0.040245 -0.067091    gme\n",
       "2021-04-16   -0.008397 -0.061349    gme\n",
       "2021-04-13    0.096162 -0.051148   pltr\n",
       "2021-04-14   -0.065089 -0.115534   pltr\n",
       "2021-04-15   -0.035818 -0.067091   pltr\n",
       "2021-04-16   -0.017060 -0.061349   pltr"
      ]
     },
     "execution_count": 98,
     "metadata": {},
     "output_type": "execute_result"
    }
   ],
   "source": [
    "data"
   ]
  },
  {
   "cell_type": "code",
   "execution_count": 101,
   "metadata": {},
   "outputs": [
    {
     "data": {
      "image/png": "[encoded data removed]",
      "text/plain": [
       "<Figure size 432x288 with 1 Axes>"
      ]
     },
     "metadata": {
      "needs_background": "light"
     },
     "output_type": "display_data"
    },
    {
     "data": {
      "image/png": "[encoded data removed]",
      "text/plain": [
       "<Figure size 432x288 with 1 Axes>"
      ]
     },
     "metadata": {
      "needs_background": "light"
     },
     "output_type": "display_data"
    },
    {
     "data": {
      "image/png": "[encoded data removed]",
      "text/plain": [
       "<Figure size 432x288 with 1 Axes>"
      ]
     },
     "metadata": {
      "needs_background": "light"
     },
     "output_type": "display_data"
    },
    {
     "data": {
      "image/png": "[encoded data removed]",
      "text/plain": [
       "<Figure size 432x288 with 1 Axes>"
      ]
     },
     "metadata": {
      "needs_background": "light"
     },
     "output_type": "display_data"
    },
    {
     "data": {
      "image/png": "[encoded data removed]",
      "text/plain": [
       "<Figure size 432x288 with 1 Axes>"
      ]
     },
     "metadata": {
      "needs_background": "light"
     },
     "output_type": "display_data"
    },
    {
     "data": {
      "image/png": "[encoded data removed]",
      "text/plain": [
       "<Figure size 432x288 with 1 Axes>"
      ]
     },
     "metadata": {
      "needs_background": "light"
     },
     "output_type": "display_data"
    }
   ],
   "source": [
    "for ticker in tickers:\n",
    "    _ = data[data['ticker']==ticker].plot(title=ticker)"
   ]
  },
  {
   "cell_type": "code",
   "execution_count": 144,
   "metadata": {},
   "outputs": [],
   "source": [
    "lin_data = data[data['ticker'] != 'gme']\n",
    "x = np.array(lin_data['avg_sent'])\n",
    "y = np.array(lin_data['fracChange'])"
   ]
  },
  {
   "cell_type": "code",
   "execution_count": 145,
   "metadata": {},
   "outputs": [],
   "source": [
    "from sklearn.linear_model import LinearRegression"
   ]
  },
  {
   "cell_type": "code",
   "execution_count": 146,
   "metadata": {},
   "outputs": [],
   "source": [
    "model = LinearRegression().fit(x.reshape(-1,1),y.reshape(-1,1))"
   ]
  },
  {
   "cell_type": "code",
   "execution_count": 147,
   "metadata": {},
   "outputs": [],
   "source": [
    "y_pred = model.predict(x.reshape(-1,1))"
   ]
  },
  {
   "cell_type": "code",
   "execution_count": 148,
   "metadata": {},
   "outputs": [
    {
     "data": {
      "text/plain": [
       "[<matplotlib.lines.Line2D at 0x7fb0a8721d30>]"
      ]
     },
     "execution_count": 148,
     "metadata": {},
     "output_type": "execute_result"
    },
    {
     "data": {
      "image/png": "[encoded data removed]",
      "text/plain": [
       "<Figure size 432x288 with 1 Axes>"
      ]
     },
     "metadata": {
      "needs_background": "light"
     },
     "output_type": "display_data"
    }
   ],
   "source": [
    "plt.scatter(x,y,c='tab:blue')\n",
    "plt.plot(x,y_pred,c='tab:green',lw=3)"
   ]
  },
  {
   "cell_type": "code",
   "execution_count": null,
   "metadata": {},
   "outputs": [],
   "source": []
  }
 ],
 "metadata": {
  "kernelspec": {
   "display_name": "proj_env",
   "language": "python",
   "name": "proj_env"
  },
  "language_info": {
   "codemirror_mode": {
    "name": "ipython",
    "version": 3
   },
   "file_extension": ".py",
   "mimetype": "text/x-python",
   "name": "python",
   "nbconvert_exporter": "python",
   "pygments_lexer": "ipython3",
   "version": "3.6.7"
  }
 },
 "nbformat": 4,
 "nbformat_minor": 4
}
